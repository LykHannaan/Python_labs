{
 "cells": [
  {
   "cell_type": "code",
   "execution_count": 19,
   "metadata": {},
   "outputs": [
    {
     "name": "stdout",
     "output_type": "stream",
     "text": [
      "[-9, -8, 6, -9, 14, -5, 13, 3, 8, -7]\n",
      "[-7, 8, 3, 13, -5, 14, -9, 6, -8, -9]\n"
     ]
    }
   ],
   "source": [
    "import random\n",
    "\n",
    "def List_generate(n):\n",
    "    return [random.randrange(-10, 15) for _ in range(n)]\n",
    "\n",
    "List1 = List_generate(10)\n",
    "print(List1)\n",
    "print(list(reversed(List1)))\n"
   ]
  },
  {
   "cell_type": "code",
   "execution_count": 20,
   "metadata": {},
   "outputs": [
    {
     "name": "stdout",
     "output_type": "stream",
     "text": [
      "[-9, -8, 6, -9, 14, -5, 13, 3, 8, -7]\n",
      "[7, -3, -4, 11, -7, 6, -10, 8, 14, 10, 3]\n",
      "[-8, -9, -5, 3, -7, 7, -4, -7, -10, 14, 3]\n"
     ]
    }
   ],
   "source": [
    "List2 = List_generate(11)\n",
    "NewList = []\n",
    "print(List1)\n",
    "print(List2)\n",
    "for i in range(1, len(List1), 2):\n",
    "    NewList.append(List1[i])\n",
    "for i in range(0, len(List2), 2):\n",
    "    NewList.append(List2[i])\n",
    "print(NewList)\n"
   ]
  },
  {
   "cell_type": "code",
   "execution_count": 29,
   "metadata": {},
   "outputs": [
    {
     "name": "stdout",
     "output_type": "stream",
     "text": [
      "[-8.531940683053778, 14.458089614379798, 'everything', 'sunny', 'what?', 'sunny', 'world', 'what?', -3, 14, 8, -1, 9, 8, -8, -6]\n",
      "{'everything', 'world', 8, 9, -8, 'what?', 14.458089614379798, 14, -8.531940683053778, -6, 'sunny', -3, -1}\n"
     ]
    }
   ],
   "source": [
    "randList = List_generate(8)\n",
    "StrList = ['Hello!', 'world', 'absolutly', 'flash', 'everything', 'sunny', 'sunny', 'what?', 'what?', 'Hello!', 'flash', 'world']\n",
    "List3 = [random.uniform(-15, 15) for i in range(2)]\n",
    "randStrList = random.sample(StrList,6)\n",
    "List3.extend(randStrList)\n",
    "List3.extend(randList)\n",
    "print(List3)\n",
    "print(set(List3))"
   ]
  },
  {
   "cell_type": "code",
   "execution_count": 35,
   "metadata": {},
   "outputs": [
    {
     "name": "stdout",
     "output_type": "stream",
     "text": [
      "{1: 'Спок', 2: 'ящерица', 51: 'трава', 4: 'ящерица', 5: 'бумага', 16: 'бумага', 7: 'Спок', 9: 'ножницы'}\n",
      "{'Спок': [1, 7], 'ящерица': [2, 4], 'трава': [51], 'бумага': [5, 16], 'ножницы': [9]}\n"
     ]
    }
   ],
   "source": [
    "Dictionary1 = {1: 'Спок', 2: 'ящерица', 51: 'камень', 4: 'ящерица', 5: 'бумага', 16: 'бумага', 7: 'Спок', 9: 'ножницы', 51: 'трава'}\n",
    "res = dict()\n",
    "print(Dictionary1)\n",
    "\n",
    "for value in Dictionary1:\n",
    "  if Dictionary1[value] not in res:\n",
    "    res[Dictionary1[value]] = []\n",
    "  res[Dictionary1[value]].append(value)\n",
    "\n",
    "print(res)\n"
   ]
  },
  {
   "cell_type": "code",
   "execution_count": 32,
   "metadata": {},
   "outputs": [
    {
     "name": "stdout",
     "output_type": "stream",
     "text": [
      "{1: 'latte', 2: 'latte', 3: 'cappuccino', 4: 'mocha', 5: 'cappuccino'}\n",
      "{8: 'raf', 2: 'latte', 15: 'kakao', 4: 'mocha', 5: 'cappuccino'}\n",
      "{2: 'latte', 4: 'mocha', 5: 'cappuccino'}\n"
     ]
    }
   ],
   "source": [
    "Dictionary2 = {8: 'raf', 2: 'latte', 15: 'kakao', 4: 'mocha', 5: 'cappuccino'}\n",
    "result_dict = dict(Dictionary1.items() & Dictionary2.items()) \n",
    "print(Dictionary1)\n",
    "print(Dictionary2)\n",
    "print(result_dict)"
   ]
  }
 ],
 "metadata": {
  "kernelspec": {
   "display_name": "Python 3",
   "language": "python",
   "name": "python3"
  },
  "language_info": {
   "codemirror_mode": {
    "name": "ipython",
    "version": 3
   },
   "file_extension": ".py",
   "mimetype": "text/x-python",
   "name": "python",
   "nbconvert_exporter": "python",
   "pygments_lexer": "ipython3",
   "version": "3.12.0"
  }
 },
 "nbformat": 4,
 "nbformat_minor": 2
}
