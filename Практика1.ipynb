{
 "cells": [
  {
   "cell_type": "code",
   "execution_count": 10,
   "metadata": {},
   "outputs": [
    {
     "name": "stdout",
     "output_type": "stream",
     "text": [
      "[19, 18, -23, -13, -25, 14, -3, -3, 4, -8]\n",
      "[-8, 4, -3, -3, 14, -25, -13, -23, 18, 19]\n"
     ]
    }
   ],
   "source": [
    "import random\n",
    "\n",
    "def List_generate(n):\n",
    "    return [random.randrange(-25, 25) for _ in range(n)]\n",
    "\n",
    "List1 = List_generate(10)\n",
    "print(List1)\n",
    "print(list(reversed(List1)))\n"
   ]
  },
  {
   "cell_type": "code",
   "execution_count": 11,
   "metadata": {},
   "outputs": [
    {
     "name": "stdout",
     "output_type": "stream",
     "text": [
      "[19, 18, -23, -13, -25, 14, -3, -3, 4, -8]\n",
      "[24, 24, 6, 16, 5, -12]\n",
      "[18, -13, 14, -3, -8, 6, 5]\n",
      "--------------------\n"
     ]
    }
   ],
   "source": [
    "List2 = List_generate(6)\n",
    "NewList = []\n",
    "print(List1)\n",
    "print(List2)\n",
    "for i in range(1, len(List1), 2):\n",
    "    NewList.append(List1[i])\n",
    "for i in range(2, len(List2), 2):\n",
    "    NewList.append(List2[i])\n",
    "print(NewList)\n"
   ]
  },
  {
   "cell_type": "code",
   "execution_count": 28,
   "metadata": {},
   "outputs": [
    {
     "name": "stdout",
     "output_type": "stream",
     "text": [
      "[7.4683055269115535, 3.2373094786795313, 'sunny', 'Hello!', 'flash', 'what?', 'Hello!', 'flash', 6, 10, -3, 10, -5, -20, -19, -15]\n",
      "{3.2373094786795313, 6, 7.4683055269115535, 'flash', 10, -20, 'sunny', -19, -15, 'Hello!', 'what?', -5, -3}\n",
      "--------------------\n"
     ]
    }
   ],
   "source": [
    "randList = List_generate(8)\n",
    "StrList = ['Hello!', 'world', 'absolutly', 'flash', 'everything', 'sunny', 'sunny', 'what?', 'what?', 'Hello!', 'flash', 'world']\n",
    "List3 = [random.uniform(-15, 15) for i in range(2)]\n",
    "randStrList = random.sample(StrList,6)\n",
    "List3.extend(randStrList)\n",
    "List3.extend(randList)\n",
    "print(List3)\n",
    "print(set(List3))"
   ]
  },
  {
   "cell_type": "code",
   "execution_count": 31,
   "metadata": {},
   "outputs": [
    {
     "name": "stdout",
     "output_type": "stream",
     "text": [
      "{1: 'latte', 2: 'latte', 3: 'cappuccino', 4: 'mocha', 5: 'cappuccino'}\n",
      "{'latte': [1, 2], 'cappuccino': [3, 5], 'mocha': [4]}\n"
     ]
    }
   ],
   "source": [
    "Dictionary1 = {1: 'latte', 2: 'latte', 3: 'cappuccino', 4: 'mocha', 5: 'cappuccino'}\n",
    "r = dict()\n",
    "print(Dictionary1)\n",
    "\n",
    "for key in Dictionary1:\n",
    "  if Dictionary1[key] not in r:\n",
    "    r[Dictionary1[key]] = []\n",
    "  r[Dictionary1[key]].append(key)\n",
    "print(r)\n"
   ]
  },
  {
   "cell_type": "code",
   "execution_count": 32,
   "metadata": {},
   "outputs": [
    {
     "name": "stdout",
     "output_type": "stream",
     "text": [
      "{1: 'latte', 2: 'latte', 3: 'cappuccino', 4: 'mocha', 5: 'cappuccino'}\n",
      "{8: 'raf', 2: 'latte', 15: 'kakao', 4: 'mocha', 5: 'cappuccino'}\n",
      "{2: 'latte', 4: 'mocha', 5: 'cappuccino'}\n"
     ]
    }
   ],
   "source": [
    "Dictionary2 = {8: 'raf', 2: 'latte', 15: 'kakao', 4: 'mocha', 5: 'cappuccino'}\n",
    "result_dict = dict(Dictionary1.items() & Dictionary2.items()) \n",
    "print(Dictionary1)\n",
    "print(Dictionary2)\n",
    "print(result_dict)"
   ]
  }
 ],
 "metadata": {
  "kernelspec": {
   "display_name": "Python 3",
   "language": "python",
   "name": "python3"
  },
  "language_info": {
   "codemirror_mode": {
    "name": "ipython",
    "version": 3
   },
   "file_extension": ".py",
   "mimetype": "text/x-python",
   "name": "python",
   "nbconvert_exporter": "python",
   "pygments_lexer": "ipython3",
   "version": "3.12.0"
  }
 },
 "nbformat": 4,
 "nbformat_minor": 2
}
