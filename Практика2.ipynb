{
 "cells": [
  {
   "cell_type": "code",
   "execution_count": 13,
   "metadata": {},
   "outputs": [
    {
     "name": "stdout",
     "output_type": "stream",
     "text": [
      "[1, 5, 11, 55, 661, 3305, 7271, 36355]\n"
     ]
    }
   ],
   "source": [
    "def isPrime(num: int) -> bool:\n",
    "    if (num <= 1):\n",
    "        return False\n",
    "    if num % 2 == 0:\n",
    "        return num == 2\n",
    "    d = 3\n",
    "    while d * d <= num and num % d != 0:\n",
    "        d += 2\n",
    "    return d * d > num\n",
    "\n",
    "def search_divisors(num: int):\n",
    "    result = {1, num}\n",
    "    for divisor in range(2, num // 2  + 1):\n",
    "      if num % divisor == 0:\n",
    "          result.add(divisor)\n",
    "    # функция sorted() сортирует делители по возрастанию и возвращает результат в виде списка\n",
    "    print(sorted(result))\n",
    "    \n",
    "N = int(input('Введите целое число: '))\n",
    "if isPrime(N): \n",
    "    print('Число простое и не имеет делителей кроме 1 и', N)\n",
    "else: search_divisors(N)"
   ]
  }
 ],
 "metadata": {
  "kernelspec": {
   "display_name": "Python 3",
   "language": "python",
   "name": "python3"
  },
  "language_info": {
   "codemirror_mode": {
    "name": "ipython",
    "version": 3
   },
   "file_extension": ".py",
   "mimetype": "text/x-python",
   "name": "python",
   "nbconvert_exporter": "python",
   "pygments_lexer": "ipython3",
   "version": "3.12.0"
  }
 },
 "nbformat": 4,
 "nbformat_minor": 2
}
